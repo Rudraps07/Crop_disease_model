{
  "cells": [
    {
      "cell_type": "markdown",
      "metadata": {
        "id": "view-in-github",
        "colab_type": "text"
      },
      "source": [
        "<a href=\"https://colab.research.google.com/github/Rudraps07/Crop_disease_model/blob/master/crop_disease.ipynb\" target=\"_parent\"><img src=\"https://colab.research.google.com/assets/colab-badge.svg\" alt=\"Open In Colab\"/></a>"
      ]
    },
    {
      "cell_type": "code",
      "execution_count": null,
      "metadata": {
        "id": "ZkVJC__4d4oF"
      },
      "outputs": [],
      "source": [
        "import numpy as np\n",
        "import pandas as pd \n",
        "import matplotlib.pyplot as plt\n",
        "import tensorflow as tf\n",
        "from tensorflow.keras import layers\n",
        "from time import perf_counter \n",
        "import os"
      ]
    },
    {
      "cell_type": "code",
      "execution_count": null,
      "metadata": {
        "colab": {
          "background_save": true
        },
        "id": "1DerXE5PgVDK"
      },
      "outputs": [],
      "source": [
        "batch_size = 100\n",
        "img_height = 250\n",
        "img_width = 250"
      ]
    },
    {
      "cell_type": "code",
      "execution_count": null,
      "metadata": {
        "colab": {
          "background_save": true
        },
        "id": "EG8FJTf1gVQ0",
        "outputId": "0a7bd890-238e-45f6-bdf9-5fd2ef7cb8de"
      },
      "outputs": [
        {
          "ename": "FileNotFoundError",
          "evalue": "ignored",
          "output_type": "error",
          "traceback": [
            "\u001b[0;31m---------------------------------------------------------------------------\u001b[0m",
            "\u001b[0;31mFileNotFoundError\u001b[0m                         Traceback (most recent call last)",
            "\u001b[0;32m<ipython-input-3-7781b1dbbd8d>\u001b[0m in \u001b[0;36m<module>\u001b[0;34m\u001b[0m\n\u001b[1;32m      3\u001b[0m     \u001b[0mseed\u001b[0m\u001b[0;34m=\u001b[0m\u001b[0;36m42\u001b[0m\u001b[0;34m,\u001b[0m\u001b[0;34m\u001b[0m\u001b[0;34m\u001b[0m\u001b[0m\n\u001b[1;32m      4\u001b[0m     \u001b[0mimage_size\u001b[0m\u001b[0;34m=\u001b[0m \u001b[0;34m(\u001b[0m\u001b[0mimg_height\u001b[0m\u001b[0;34m,\u001b[0m \u001b[0mimg_width\u001b[0m\u001b[0;34m)\u001b[0m\u001b[0;34m,\u001b[0m\u001b[0;34m\u001b[0m\u001b[0;34m\u001b[0m\u001b[0m\n\u001b[0;32m----> 5\u001b[0;31m     \u001b[0mbatch_size\u001b[0m\u001b[0;34m=\u001b[0m\u001b[0mbatch_size\u001b[0m\u001b[0;34m\u001b[0m\u001b[0;34m\u001b[0m\u001b[0m\n\u001b[0m\u001b[1;32m      6\u001b[0m \u001b[0;34m\u001b[0m\u001b[0m\n\u001b[1;32m      7\u001b[0m )\n",
            "\u001b[0;32m/usr/local/lib/python3.7/dist-packages/keras/preprocessing/image_dataset.py\u001b[0m in \u001b[0;36mimage_dataset_from_directory\u001b[0;34m(directory, labels, label_mode, class_names, color_mode, batch_size, image_size, shuffle, seed, validation_split, subset, interpolation, follow_links, crop_to_aspect_ratio, **kwargs)\u001b[0m\n\u001b[1;32m    197\u001b[0m       \u001b[0mshuffle\u001b[0m\u001b[0;34m=\u001b[0m\u001b[0mshuffle\u001b[0m\u001b[0;34m,\u001b[0m\u001b[0;34m\u001b[0m\u001b[0;34m\u001b[0m\u001b[0m\n\u001b[1;32m    198\u001b[0m       \u001b[0mseed\u001b[0m\u001b[0;34m=\u001b[0m\u001b[0mseed\u001b[0m\u001b[0;34m,\u001b[0m\u001b[0;34m\u001b[0m\u001b[0;34m\u001b[0m\u001b[0m\n\u001b[0;32m--> 199\u001b[0;31m       follow_links=follow_links)\n\u001b[0m\u001b[1;32m    200\u001b[0m \u001b[0;34m\u001b[0m\u001b[0m\n\u001b[1;32m    201\u001b[0m   \u001b[0;32mif\u001b[0m \u001b[0mlabel_mode\u001b[0m \u001b[0;34m==\u001b[0m \u001b[0;34m'binary'\u001b[0m \u001b[0;32mand\u001b[0m \u001b[0mlen\u001b[0m\u001b[0;34m(\u001b[0m\u001b[0mclass_names\u001b[0m\u001b[0;34m)\u001b[0m \u001b[0;34m!=\u001b[0m \u001b[0;36m2\u001b[0m\u001b[0;34m:\u001b[0m\u001b[0;34m\u001b[0m\u001b[0;34m\u001b[0m\u001b[0m\n",
            "\u001b[0;32m/usr/local/lib/python3.7/dist-packages/keras/preprocessing/dataset_utils.py\u001b[0m in \u001b[0;36mindex_directory\u001b[0;34m(directory, labels, formats, class_names, shuffle, seed, follow_links)\u001b[0m\n\u001b[1;32m     64\u001b[0m   \u001b[0;32melse\u001b[0m\u001b[0;34m:\u001b[0m\u001b[0;34m\u001b[0m\u001b[0;34m\u001b[0m\u001b[0m\n\u001b[1;32m     65\u001b[0m     \u001b[0msubdirs\u001b[0m \u001b[0;34m=\u001b[0m \u001b[0;34m[\u001b[0m\u001b[0;34m]\u001b[0m\u001b[0;34m\u001b[0m\u001b[0;34m\u001b[0m\u001b[0m\n\u001b[0;32m---> 66\u001b[0;31m     \u001b[0;32mfor\u001b[0m \u001b[0msubdir\u001b[0m \u001b[0;32min\u001b[0m \u001b[0msorted\u001b[0m\u001b[0;34m(\u001b[0m\u001b[0mos\u001b[0m\u001b[0;34m.\u001b[0m\u001b[0mlistdir\u001b[0m\u001b[0;34m(\u001b[0m\u001b[0mdirectory\u001b[0m\u001b[0;34m)\u001b[0m\u001b[0;34m)\u001b[0m\u001b[0;34m:\u001b[0m\u001b[0;34m\u001b[0m\u001b[0;34m\u001b[0m\u001b[0m\n\u001b[0m\u001b[1;32m     67\u001b[0m       \u001b[0;32mif\u001b[0m \u001b[0mos\u001b[0m\u001b[0;34m.\u001b[0m\u001b[0mpath\u001b[0m\u001b[0;34m.\u001b[0m\u001b[0misdir\u001b[0m\u001b[0;34m(\u001b[0m\u001b[0mos\u001b[0m\u001b[0;34m.\u001b[0m\u001b[0mpath\u001b[0m\u001b[0;34m.\u001b[0m\u001b[0mjoin\u001b[0m\u001b[0;34m(\u001b[0m\u001b[0mdirectory\u001b[0m\u001b[0;34m,\u001b[0m \u001b[0msubdir\u001b[0m\u001b[0;34m)\u001b[0m\u001b[0;34m)\u001b[0m\u001b[0;34m:\u001b[0m\u001b[0;34m\u001b[0m\u001b[0;34m\u001b[0m\u001b[0m\n\u001b[1;32m     68\u001b[0m         \u001b[0msubdirs\u001b[0m\u001b[0;34m.\u001b[0m\u001b[0mappend\u001b[0m\u001b[0;34m(\u001b[0m\u001b[0msubdir\u001b[0m\u001b[0;34m)\u001b[0m\u001b[0;34m\u001b[0m\u001b[0;34m\u001b[0m\u001b[0m\n",
            "\u001b[0;31mFileNotFoundError\u001b[0m: [Errno 2] No such file or directory: '/kaggle/input/new-plant-diseases-dataset/new plant diseases dataset(augmented)/New Plant Diseases Dataset(Augmented)/train'"
          ]
        }
      ],
      "source": [
        "training_ds = tf.keras.preprocessing.image_dataset_from_directory(\n",
        "    '/kaggle/input/new-plant-diseases-dataset/new plant diseases dataset(augmented)/New Plant Diseases Dataset(Augmented)/train',\n",
        "    seed=42,\n",
        "    image_size= (img_height, img_width),\n",
        "    batch_size=batch_size\n",
        "\n",
        ")"
      ]
    },
    {
      "cell_type": "code",
      "execution_count": null,
      "metadata": {
        "id": "0Shpg7c4ge48"
      },
      "outputs": [],
      "source": [
        "validation_ds =  tf.keras.preprocessing.image_dataset_from_directory(\n",
        "    '/kaggle/input/new-plant-diseases-dataset/new plant diseases dataset(augmented)/New Plant Diseases Dataset(Augmented)/valid',\n",
        "    seed=42,\n",
        "    image_size= (img_height, img_width),\n",
        "    batch_size=batch_size)"
      ]
    },
    {
      "cell_type": "code",
      "execution_count": null,
      "metadata": {
        "id": "bdRFiPwdgh8W"
      },
      "outputs": [],
      "source": [
        "class_names = training_ds.class_names"
      ]
    },
    {
      "cell_type": "code",
      "execution_count": null,
      "metadata": {
        "id": "Bt0Il4WEgiGV"
      },
      "outputs": [],
      "source": [
        "MyCnn = tf.keras.models.Sequential([\n",
        "  layers.BatchNormalization(),\n",
        "  layers.Conv2D(32, 3, activation='relu'),\n",
        "  layers.MaxPooling2D(),\n",
        "  layers.Conv2D(64, 3, activation='relu'),\n",
        "  layers.MaxPooling2D(),\n",
        "  layers.Conv2D(128, 3, activation='relu'),\n",
        "  layers.MaxPooling2D(),\n",
        "  layers.Flatten(),\n",
        "  layers.Dense(256, activation='relu'),\n",
        "  layers.Dense(len(class_names), activation= 'softmax')\n",
        "])"
      ]
    },
    {
      "cell_type": "code",
      "execution_count": null,
      "metadata": {
        "id": "Y4G0nxPNgiJu"
      },
      "outputs": [],
      "source": [
        "MyCnn.compile(optimizer='adam',loss='sparse_categorical_crossentropy', metrics=['accuracy'])"
      ]
    },
    {
      "cell_type": "code",
      "execution_count": null,
      "metadata": {
        "id": "zoejtkRmgr2_"
      },
      "outputs": [],
      "source": [
        "retVal = MyCnn.fit(training_ds,validation_data= validation_ds,epochs = 5)"
      ]
    },
    {
      "cell_type": "code",
      "execution_count": null,
      "metadata": {
        "id": "BdRJDUyogsBf"
      },
      "outputs": [],
      "source": [
        "plt.plot(retVal.history['loss'], label = 'training loss')\n",
        "plt.plot(retVal.history['accuracy'], label = 'training accuracy')\n",
        "plt.legend()"
      ]
    },
    {
      "cell_type": "code",
      "execution_count": null,
      "metadata": {
        "id": "csu1Qe7jgvtd"
      },
      "outputs": [],
      "source": [
        "AccuracyVector = []\n",
        "plt.figure(figsize=(30, 30))\n",
        "for images, labels in validation_ds.take(1):\n",
        "    predictions = MyCnn.predict(images)\n",
        "    predlabel = []\n",
        "    prdlbl = []\n",
        "    \n",
        "    for mem in predictions:\n",
        "        predlabel.append(class_names[np.argmax(mem)])\n",
        "        prdlbl.append(np.argmax(mem))\n",
        "    \n",
        "    AccuracyVector = np.array(prdlbl) == labels\n",
        "    for i in range(40):\n",
        "        ax = plt.subplot(10, 4, i + 1)\n",
        "        plt.imshow(images[i].numpy().astype(\"uint8\"))\n",
        "        plt.title('Pred: '+ predlabel[i]+' actl:'+class_names[labels[i]] )\n",
        "        plt.axis('off')\n",
        "        plt.grid(True)"
      ]
    },
    {
      "cell_type": "code",
      "execution_count": null,
      "metadata": {
        "id": "BcD_OfJig0zn"
      },
      "outputs": [],
      "source": [
        "plt.plot(retVal.history['val_loss'], label = 'validation loss')\n",
        "plt.plot(retVal.history['val_accuracy'], label = 'validation accuracy')\n",
        "plt.legend()"
      ]
    },
    {
      "cell_type": "code",
      "execution_count": null,
      "metadata": {
        "id": "tjPRaSyfg3m9"
      },
      "outputs": [],
      "source": [
        "from keras.utils.vis_utils import plot_model\n",
        "plot_model(MyCnn, to_file='model_plot.png', show_shapes=True, show_layer_names=True)v"
      ]
    },
    {
      "cell_type": "code",
      "execution_count": null,
      "metadata": {
        "id": "dTF9kQ1dg6Hk"
      },
      "outputs": [],
      "source": [
        "MyCnn.save('model.h5')"
      ]
    },
    {
      "cell_type": "code",
      "execution_count": null,
      "metadata": {
        "id": "z4JM95Jug6Qz"
      },
      "outputs": [],
      "source": [
        "start = perf_counter() \n",
        "_, unPrunnedAccuracy = MyCnn.evaluate(validation_ds, verbose = 0 )\n",
        "end = perf_counter() \n",
        "\n",
        "sizeUnprunned = os.path.getsize('model.h5')\n",
        "# let convert to MB\n",
        "sizeUnprunned = sizeUnprunned / (1024 * 1024)\n",
        "\n",
        "print ('unPrunned model Summary:')\n",
        "print('Model size(MB) : {}'.format(sizeUnprunned))\n",
        "print('Time on Validation data (sec) : {}'.format(end - start))\n",
        "print('Accuracy on validation data: {}'.format(unPrunnedAccuracy))"
      ]
    },
    {
      "cell_type": "code",
      "execution_count": null,
      "metadata": {
        "id": "AupR0sVThBiE"
      },
      "outputs": [],
      "source": [
        "pip install --root-user-action=ignore"
      ]
    },
    {
      "cell_type": "code",
      "execution_count": null,
      "metadata": {
        "id": "H6X-QTwrhF5R"
      },
      "outputs": [],
      "source": [
        "FROM python:3.8.3-alpine\n",
        "\n",
        "RUN pip install --upgrade pip\n",
        "\n",
        "RUN adduser -D myuser\n",
        "USER myuser\n",
        "WORKDIR /home/myuser\n",
        "\n",
        "COPY --chown=myuser:myuser requirements.txt requirements.txt\n",
        "RUN pip install --user -r requirements.txt\n",
        "\n",
        "ENV PATH=\"/home/myuser/.local/bin:${PATH}\"\n",
        "\n",
        "COPY --chown=myuser:myuser . .\n",
        "\n",
        "CMD [\"python\", \"manage.py\", \"runserver\", \"0.0.0.0:8000\"]"
      ]
    },
    {
      "cell_type": "code",
      "execution_count": null,
      "metadata": {
        "id": "DbZp7LAIhWv6"
      },
      "outputs": [],
      "source": [
        "pip install --user -r requirements.txt\n",
        "\n",
        "ENV PATH=\"/home/myuser/.local/bin:${PATH}\"\n",
        "\n",
        "--chown=myuser:myuser . .\n",
        "\n",
        "CMD [\"python\", \"manage.py\", \"runserver\", \"0.0.0.0:8000\"]"
      ]
    },
    {
      "cell_type": "code",
      "execution_count": null,
      "metadata": {
        "id": "5btLxfbnhZX1"
      },
      "outputs": [],
      "source": [
        "adduser -D myuser"
      ]
    },
    {
      "cell_type": "code",
      "execution_count": null,
      "metadata": {
        "id": "knj8LmoVhbvi"
      },
      "outputs": [],
      "source": [
        "--chown=myuser:myuser requirements.txt requirements.txt"
      ]
    },
    {
      "cell_type": "code",
      "execution_count": null,
      "metadata": {
        "id": "fW6DYbR9heMQ"
      },
      "outputs": [],
      "source": [
        "pip install --user --upgrade tensorflow-model-optimization"
      ]
    },
    {
      "cell_type": "code",
      "source": [
        "!pip install -q tensorflow-model-optimization\n",
        "import tensorflow_model_optimization as tfmot\n",
        "prune_low_magnitude = tfmot.sparsity.keras.prune_low_magnitude\n",
        "\n",
        "epochs = 5\n",
        "end_step = np.ceil(70295 / batch_size).astype(np.int32) * epochs\n",
        "## pruning param\n",
        "pruning_params = {\n",
        "      'pruning_schedule': tfmot.sparsity.keras.PolynomialDecay(initial_sparsity=0.50, final_sparsity=0.80, begin_step=0, end_step=end_step)\n",
        "                }\n",
        "## defining prunned model\n",
        "MyPrunnedModel = prune_low_magnitude(MyCnn, **pruning_params)\n",
        "MyPrunnedModel.compile(optimizer='adam',loss='sparse_categorical_crossentropy', metrics=['accuracy'])"
      ],
      "metadata": {
        "id": "RKK2pVb7qZeB"
      },
      "execution_count": null,
      "outputs": []
    },
    {
      "cell_type": "code",
      "source": [
        "callbacks = [\n",
        "  tfmot.sparsity.keras.UpdatePruningStep(),\n",
        "  tfmot.sparsity.keras.PruningSummaries(log_dir='.'),\n",
        "]\n",
        "retVal = MyPrunnedModel.fit(training_ds,validation_data= validation_ds,epochs = 5 ,callbacks= callbacks)"
      ],
      "metadata": {
        "id": "sn2cDUmC9riK"
      },
      "execution_count": null,
      "outputs": []
    },
    {
      "cell_type": "code",
      "source": [
        "plt.plot(retVal.history['val_loss'], label = 'validation loss')\n",
        "plt.plot(retVal.history['val_accuracy'], label = 'validation accuracy')\n",
        "plt.legend()"
      ],
      "metadata": {
        "id": "4wW8mS8u9uTg"
      },
      "execution_count": null,
      "outputs": []
    },
    {
      "cell_type": "code",
      "source": [
        "plt.plot(retVal.history['loss'], label = 'training loss')\n",
        "plt.plot(retVal.history['accuracy'], label = 'training accuracy')\n",
        "plt.legend()\n"
      ],
      "metadata": {
        "id": "-6F1ivdi9xIT"
      },
      "execution_count": null,
      "outputs": []
    },
    {
      "cell_type": "code",
      "source": [
        "MyPrunnedModel.save('Prunnedmodel.h5')"
      ],
      "metadata": {
        "id": "3DVFXHuu9zcL"
      },
      "execution_count": null,
      "outputs": []
    },
    {
      "cell_type": "code",
      "source": [
        "start = perf_counter() \n",
        "_, PrunnedAccuracy = MyPrunnedModel.evaluate(validation_ds, verbose = 0 )\n",
        "end = perf_counter() \n",
        "\n",
        "sizePrunned = os.path.getsize('Prunnedmodel.h5')\n",
        "# let convert to MB\n",
        "sizePrunned = sizePrunned / (1024 * 1024)\n",
        "\n",
        "print ('Prunned model Summary:')\n",
        "print('Model size(MB) : {}'.format(sizePrunned))\n",
        "print('Time on Validation data (sec) : {}'.format(end - start))\n",
        "print('Accuracy on validation data: {}'.format(PrunnedAccuracy))"
      ],
      "metadata": {
        "id": "umarXk5m93Js"
      },
      "execution_count": null,
      "outputs": []
    }
  ],
  "metadata": {
    "colab": {
      "toc_visible": true,
      "provenance": [],
      "authorship_tag": "ABX9TyOXjOpNOARhZKF+HLC3LknZ",
      "include_colab_link": true
    },
    "kernelspec": {
      "display_name": "Python 3",
      "name": "python3"
    },
    "language_info": {
      "name": "python"
    }
  },
  "nbformat": 4,
  "nbformat_minor": 0
}