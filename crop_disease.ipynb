{
  "nbformat": 4,
  "nbformat_minor": 0,
  "metadata": {
    "colab": {
      "name": "crop disease",
      "provenance": [],
      "toc_visible": true,
      "authorship_tag": "ABX9TyMSXUu6bwloOQiB/3xgwqSa",
      "include_colab_link": true
    },
    "kernelspec": {
      "name": "python3",
      "display_name": "Python 3"
    },
    "language_info": {
      "name": "python"
    }
  },
  "cells": [
    {
      "cell_type": "markdown",
      "metadata": {
        "id": "view-in-github",
        "colab_type": "text"
      },
      "source": [
        "<a href=\"https://colab.research.google.com/github/kunal1209/kunal/blob/master/crop_disease.ipynb\" target=\"_parent\"><img src=\"https://colab.research.google.com/assets/colab-badge.svg\" alt=\"Open In Colab\"/></a>"
      ]
    },
    {
      "cell_type": "code",
      "execution_count": null,
      "metadata": {
        "id": "ZkVJC__4d4oF"
      },
      "outputs": [],
      "source": [
        "import numpy as np\n",
        "import pandas as pd \n",
        "import matplotlib.pyplot as plt\n",
        "import tensorflow as tf\n",
        "from tensorflow.keras import layers\n",
        "from time import perf_counter \n",
        "import os"
      ]
    },
    {
      "cell_type": "code",
      "source": [
        "batch_size = 100\n",
        "img_height = 250\n",
        "img_width = 250"
      ],
      "metadata": {
        "id": "1DerXE5PgVDK"
      },
      "execution_count": null,
      "outputs": []
    },
    {
      "cell_type": "code",
      "source": [
        "training_ds = tf.keras.preprocessing.image_dataset_from_directory(\n",
        "    '/kaggle/input/new-plant-diseases-dataset/new plant diseases dataset(augmented)/New Plant Diseases Dataset(Augmented)/train',\n",
        "    seed=42,\n",
        "    image_size= (img_height, img_width),\n",
        "    batch_size=batch_size\n",
        "\n",
        ")"
      ],
      "metadata": {
        "id": "EG8FJTf1gVQ0"
      },
      "execution_count": null,
      "outputs": []
    },
    {
      "cell_type": "code",
      "source": [
        "validation_ds =  tf.keras.preprocessing.image_dataset_from_directory(\n",
        "    '/kaggle/input/new-plant-diseases-dataset/new plant diseases dataset(augmented)/New Plant Diseases Dataset(Augmented)/valid',\n",
        "    seed=42,\n",
        "    image_size= (img_height, img_width),\n",
        "    batch_size=batch_size)"
      ],
      "metadata": {
        "id": "0Shpg7c4ge48"
      },
      "execution_count": null,
      "outputs": []
    },
    {
      "cell_type": "code",
      "source": [
        "class_names = training_ds.class_names"
      ],
      "metadata": {
        "id": "bdRFiPwdgh8W"
      },
      "execution_count": null,
      "outputs": []
    },
    {
      "cell_type": "code",
      "source": [
        "MyCnn = tf.keras.models.Sequential([\n",
        "  layers.BatchNormalization(),\n",
        "  layers.Conv2D(32, 3, activation='relu'),\n",
        "  layers.MaxPooling2D(),\n",
        "  layers.Conv2D(64, 3, activation='relu'),\n",
        "  layers.MaxPooling2D(),\n",
        "  layers.Conv2D(128, 3, activation='relu'),\n",
        "  layers.MaxPooling2D(),\n",
        "  layers.Flatten(),\n",
        "  layers.Dense(256, activation='relu'),\n",
        "  layers.Dense(len(class_names), activation= 'softmax')\n",
        "])"
      ],
      "metadata": {
        "id": "Bt0Il4WEgiGV"
      },
      "execution_count": null,
      "outputs": []
    },
    {
      "cell_type": "code",
      "source": [
        "MyCnn.compile(optimizer='adam',loss='sparse_categorical_crossentropy', metrics=['accuracy'])"
      ],
      "metadata": {
        "id": "Y4G0nxPNgiJu"
      },
      "execution_count": null,
      "outputs": []
    },
    {
      "cell_type": "code",
      "source": [
        "retVal = MyCnn.fit(training_ds,validation_data= validation_ds,epochs = 5)"
      ],
      "metadata": {
        "id": "zoejtkRmgr2_"
      },
      "execution_count": null,
      "outputs": []
    },
    {
      "cell_type": "code",
      "source": [
        "plt.plot(retVal.history['loss'], label = 'training loss')\n",
        "plt.plot(retVal.history['accuracy'], label = 'training accuracy')\n",
        "plt.legend()"
      ],
      "metadata": {
        "id": "BdRJDUyogsBf"
      },
      "execution_count": null,
      "outputs": []
    },
    {
      "cell_type": "code",
      "source": [
        "AccuracyVector = []\n",
        "plt.figure(figsize=(30, 30))\n",
        "for images, labels in validation_ds.take(1):\n",
        "    predictions = MyCnn.predict(images)\n",
        "    predlabel = []\n",
        "    prdlbl = []\n",
        "    \n",
        "    for mem in predictions:\n",
        "        predlabel.append(class_names[np.argmax(mem)])\n",
        "        prdlbl.append(np.argmax(mem))\n",
        "    \n",
        "    AccuracyVector = np.array(prdlbl) == labels\n",
        "    for i in range(40):\n",
        "        ax = plt.subplot(10, 4, i + 1)\n",
        "        plt.imshow(images[i].numpy().astype(\"uint8\"))\n",
        "        plt.title('Pred: '+ predlabel[i]+' actl:'+class_names[labels[i]] )\n",
        "        plt.axis('off')\n",
        "        plt.grid(True)"
      ],
      "metadata": {
        "id": "csu1Qe7jgvtd"
      },
      "execution_count": null,
      "outputs": []
    },
    {
      "cell_type": "code",
      "source": [
        "plt.plot(retVal.history['val_loss'], label = 'validation loss')\n",
        "plt.plot(retVal.history['val_accuracy'], label = 'validation accuracy')\n",
        "plt.legend()"
      ],
      "metadata": {
        "id": "BcD_OfJig0zn"
      },
      "execution_count": null,
      "outputs": []
    },
    {
      "cell_type": "code",
      "source": [
        "from keras.utils.vis_utils import plot_model\n",
        "plot_model(MyCnn, to_file='model_plot.png', show_shapes=True, show_layer_names=True)v"
      ],
      "metadata": {
        "id": "tjPRaSyfg3m9"
      },
      "execution_count": null,
      "outputs": []
    },
    {
      "cell_type": "code",
      "source": [
        "MyCnn.save('model.h5')"
      ],
      "metadata": {
        "id": "dTF9kQ1dg6Hk"
      },
      "execution_count": null,
      "outputs": []
    },
    {
      "cell_type": "code",
      "source": [
        "start = perf_counter() \n",
        "_, unPrunnedAccuracy = MyCnn.evaluate(validation_ds, verbose = 0 )\n",
        "end = perf_counter() \n",
        "\n",
        "sizeUnprunned = os.path.getsize('model.h5')\n",
        "# let convert to MB\n",
        "sizeUnprunned = sizeUnprunned / (1024 * 1024)\n",
        "\n",
        "print ('unPrunned model Summary:')\n",
        "print('Model size(MB) : {}'.format(sizeUnprunned))\n",
        "print('Time on Validation data (sec) : {}'.format(end - start))\n",
        "print('Accuracy on validation data: {}'.format(unPrunnedAccuracy))"
      ],
      "metadata": {
        "id": "z4JM95Jug6Qz"
      },
      "execution_count": null,
      "outputs": []
    },
    {
      "cell_type": "code",
      "source": [
        "pip install --root-user-action=ignore"
      ],
      "metadata": {
        "id": "AupR0sVThBiE"
      },
      "execution_count": null,
      "outputs": []
    },
    {
      "cell_type": "code",
      "source": [
        "FROM python:3.8.3-alpine\n",
        "\n",
        "RUN pip install --upgrade pip\n",
        "\n",
        "RUN adduser -D myuser\n",
        "USER myuser\n",
        "WORKDIR /home/myuser\n",
        "\n",
        "COPY --chown=myuser:myuser requirements.txt requirements.txt\n",
        "RUN pip install --user -r requirements.txt\n",
        "\n",
        "ENV PATH=\"/home/myuser/.local/bin:${PATH}\"\n",
        "\n",
        "COPY --chown=myuser:myuser . .\n",
        "\n",
        "CMD [\"python\", \"manage.py\", \"runserver\", \"0.0.0.0:8000\"]"
      ],
      "metadata": {
        "id": "H6X-QTwrhF5R"
      },
      "execution_count": null,
      "outputs": []
    },
    {
      "cell_type": "code",
      "source": [
        "pip install --user -r requirements.txt\n",
        "\n",
        "ENV PATH=\"/home/myuser/.local/bin:${PATH}\"\n",
        "\n",
        "--chown=myuser:myuser . .\n",
        "\n",
        "CMD [\"python\", \"manage.py\", \"runserver\", \"0.0.0.0:8000\"]"
      ],
      "metadata": {
        "id": "DbZp7LAIhWv6"
      },
      "execution_count": null,
      "outputs": []
    },
    {
      "cell_type": "code",
      "source": [
        "adduser -D myuser"
      ],
      "metadata": {
        "id": "5btLxfbnhZX1"
      },
      "execution_count": null,
      "outputs": []
    },
    {
      "cell_type": "code",
      "source": [
        "--chown=myuser:myuser requirements.txt requirements.txt"
      ],
      "metadata": {
        "id": "knj8LmoVhbvi"
      },
      "execution_count": null,
      "outputs": []
    },
    {
      "cell_type": "code",
      "source": [
        "pip install --user --upgrade tensorflow-model-optimization"
      ],
      "metadata": {
        "id": "fW6DYbR9heMQ"
      },
      "execution_count": null,
      "outputs": []
    }
  ]
}